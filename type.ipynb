{
 "cells": [
  {
   "cell_type": "markdown",
   "metadata": {},
   "source": [
    "Necessary Imports:\n",
    "\n",
    "    1. requests: To send HTTP requests to Spotify API.\n",
    "\n",
    "    2. pandas: Data processing to analyze streaming history.\n",
    "\n",
    "    3. matplotlib and seaborn: Data visualization.\n",
    "\n",
    "    4. webbrowser: To automatically open the browser.\n",
    "\n",
    "    5. http.server: To set up a local HTTP server for Spotify's OAuth authentication.\n",
    "\n",
    "    6. threading: To run the HTTP server in the background.\n",
    "\n",
    "    7. base64: To encrypt API keys.\n",
    "\n",
    "    8. time and datetime: To perform operations related to time."
   ]
  },
  {
   "cell_type": "code",
   "execution_count": 3,
   "metadata": {},
   "outputs": [],
   "source": [
    "import requests\n",
    "import pandas as pd\n",
    "import matplotlib.pyplot as plt\n",
    "import seaborn as sns\n",
    "import webbrowser\n",
    "from http.server import HTTPServer, BaseHTTPRequestHandler\n",
    "import urllib.parse\n",
    "import json\n",
    "import threading\n",
    "import base64\n",
    "import time\n",
    "from datetime import datetime"
   ]
  },
  {
   "cell_type": "markdown",
   "metadata": {},
   "source": [
    "Defining Spotify API Information\n",
    "\n",
    "    1. CLIENT_ID and CLIENT_SECRET: Credentials required for Spotify API access.\n",
    "\n",
    "    2. REDIRECT_URI: URL to return after authorization.\n",
    "\n",
    "    3. AUTH_CODE: A global variable for the authorization code to be received from the user."
   ]
  },
  {
   "cell_type": "code",
   "execution_count": 14,
   "metadata": {},
   "outputs": [],
   "source": [
    "CLIENT_ID = \"client_id\"  \n",
    "CLIENT_SECRET = \"client_secret_id\" \n",
    "REDIRECT_URI = \"http://localhost:8888/callback\"\n",
    "AUTH_CODE = None"
   ]
  },
  {
   "cell_type": "markdown",
   "metadata": {},
   "source": [
    "AuthHandler Class:\n",
    "\n",
    "    This class receives the authorization code from Spotify:\n",
    "        After the user logs in to the browser, Spotify sends the authorization code via the specified REDIRECT_URI.\n",
    "        The code is stored in the global AUTH_CODE variable."
   ]
  },
  {
   "cell_type": "markdown",
   "metadata": {},
   "source": []
  },
  {
   "cell_type": "code",
   "execution_count": 4,
   "metadata": {},
   "outputs": [],
   "source": [
    "class AuthHandler(BaseHTTPRequestHandler):\n",
    "    def do_GET(self):\n",
    "        global AUTH_CODE\n",
    "        if '/callback' in self.path:\n",
    "            query_components = urllib.parse.parse_qs(urllib.parse.urlparse(self.path).query)\n",
    "            AUTH_CODE = query_components['code'][0]\n",
    "            self.send_response(200)\n",
    "            self.send_header('Content-type', 'text/html')\n",
    "            self.end_headers()\n",
    "            self.wfile.write(b\"Authorization successful! You can close this window.\")\n",
    "            threading.Thread(target=self.server.shutdown).start()\n"
   ]
  },
  {
   "cell_type": "markdown",
   "metadata": {},
   "source": [
    "Running Server:\n",
    "    \n",
    "    This function starts a local HTTP server using the AuthHandler class."
   ]
  },
  {
   "cell_type": "markdown",
   "metadata": {},
   "source": []
  },
  {
   "cell_type": "code",
   "execution_count": 5,
   "metadata": {},
   "outputs": [],
   "source": [
    "def start_auth_server():\n",
    "    server = HTTPServer(('localhost', 8888), AuthHandler)\n",
    "    server.serve_forever()"
   ]
  },
  {
   "cell_type": "markdown",
   "metadata": {},
   "source": [
    "User Authorization Process:\n",
    "\n",
    "    1. Opens a browser tab to get an authorization code from Spotify.\n",
    "    2. After the user logs in and grants permission, the AUTH_CODE is received."
   ]
  },
  {
   "cell_type": "markdown",
   "metadata": {},
   "source": []
  },
  {
   "cell_type": "code",
   "execution_count": 6,
   "metadata": {},
   "outputs": [],
   "source": [
    "def get_user_auth():\n",
    "    server_thread = threading.Thread(target=start_auth_server)\n",
    "    server_thread.daemon = True\n",
    "    server_thread.start()\n",
    "\n",
    "    scope = \"user-library-read user-read-private\"\n",
    "    auth_params = {\n",
    "        'client_id': CLIENT_ID,\n",
    "        'response_type': 'code',\n",
    "        'redirect_uri': REDIRECT_URI,\n",
    "        'scope': scope,\n",
    "        'show_dialog': 'true'\n",
    "    }\n",
    "    \n",
    "    auth_url = \"https://accounts.spotify.com/authorize?\" + urllib.parse.urlencode(auth_params)\n",
    "    print(\"Opening browser for authorization...\")\n",
    "    webbrowser.open(auth_url)\n",
    "    \n",
    "    while AUTH_CODE is None:\n",
    "        time.sleep(0.1)\n",
    "    \n",
    "    return AUTH_CODE\n"
   ]
  },
  {
   "cell_type": "markdown",
   "metadata": {},
   "source": [
    "Getting Access Token:\n",
    "\n",
    "    1. Spotify sends authorization code to API.\n",
    "    2. Returns access token (this token is required to pull data from API)."
   ]
  },
  {
   "cell_type": "code",
   "execution_count": 7,
   "metadata": {},
   "outputs": [],
   "source": [
    "def get_access_token(auth_code):\n",
    "    token_url = \"https://accounts.spotify.com/api/token\"\n",
    "    credentials = base64.b64encode(f\"{CLIENT_ID}:{CLIENT_SECRET}\".encode()).decode()\n",
    "    \n",
    "    headers = {\n",
    "        \"Authorization\": f\"Basic {credentials}\",\n",
    "        \"Content-Type\": \"application/x-www-form-urlencoded\"\n",
    "    }\n",
    "    \n",
    "    data = {\n",
    "        \"grant_type\": \"authorization_code\",\n",
    "        \"code\": auth_code,\n",
    "        \"redirect_uri\": REDIRECT_URI\n",
    "    }\n",
    "    \n",
    "    response = requests.post(token_url, headers=headers, data=data)\n",
    "    if response.status_code == 200:\n",
    "        return response.json()[\"access_token\"]\n",
    "    else:\n",
    "        print(f\"Error getting access token: {response.json()}\")\n",
    "        return None\n"
   ]
  },
  {
   "cell_type": "markdown",
   "metadata": {},
   "source": [
    "Loading and Analyzing Streaming History:\n",
    "\n",
    "    1. Streaming history is read from JSON file.\n",
    "    2. endTime column is converted to datetime format.\n",
    "    3. Time zones such as month, hour are added.\n",
    "    4. msPlayed column is converted to minutes.\n",
    "\n",
    "A. Loading JSON data"
   ]
  },
  {
   "cell_type": "markdown",
   "metadata": {},
   "source": []
  },
  {
   "cell_type": "code",
   "execution_count": 8,
   "metadata": {},
   "outputs": [],
   "source": [
    "def load_streaming_history(file_path):\n",
    "    df = pd.read_json(file_path)\n",
    "    df['endTime'] = pd.to_datetime(df['endTime'])\n",
    "    df['date'] = df['endTime'].dt.date\n",
    "    df['hour'] = df['endTime'].dt.hour\n",
    "    df['month'] = df['endTime'].dt.to_period('M')\n",
    "    df['minutes_played'] = df['msPlayed'] / (1000 * 60)\n",
    "    return df\n"
   ]
  },
  {
   "cell_type": "markdown",
   "metadata": {},
   "source": [
    "B. Monthly Most Listened Songs\n",
    "\n",
    "    1. Songs are grouped by month.\n",
    "    2. The longest listened song is selected for each month."
   ]
  },
  {
   "cell_type": "code",
   "execution_count": 9,
   "metadata": {},
   "outputs": [],
   "source": [
    "def get_monthly_top_songs(df):\n",
    "    monthly_tracks = df.groupby(['month', 'trackName', 'artistName'])['minutes_played'].sum().reset_index()\n",
    "    monthly_top_songs = monthly_tracks.loc[monthly_tracks.groupby('month')['minutes_played'].idxmax()]\n",
    "    return monthly_top_songs"
   ]
  },
  {
   "cell_type": "markdown",
   "metadata": {},
   "source": []
  },
  {
   "cell_type": "markdown",
   "metadata": {},
   "source": [
    "Mood analysis is done based on the song's popularity, genre and duration."
   ]
  },
  {
   "cell_type": "code",
   "execution_count": 10,
   "metadata": {},
   "outputs": [],
   "source": [
    "def analyze_track_features(track_details):\n",
    "    genres = track_details.get('album', {}).get('genres', [])\n",
    "    popularity = track_details.get('popularity', 0)\n",
    "    duration_ms = track_details.get('duration_ms', 0)\n",
    "\n",
    "    mood_keywords = {\n",
    "        'happy': ['pop', 'dance', 'disco'],\n",
    "        'energetic': ['rock', 'metal', 'punk', 'electronic'],\n",
    "        'calm': ['ambient', 'classical', 'jazz'],\n",
    "        'melancholic': ['blues', 'soul'],\n",
    "        'intense': ['rap', 'hip hop', 'trap']\n",
    "    }\n",
    "    mood_scores = {mood: 0 for mood in mood_keywords.keys()}\n",
    "    for genre in genres:\n",
    "        for mood, keywords in mood_keywords.items():\n",
    "            if any(keyword in genre for keyword in keywords):\n",
    "                mood_scores[mood] += 1\n",
    "\n",
    "    if popularity > 75:\n",
    "        mood_scores['energetic'] += 1\n",
    "        mood_scores['happy'] += 1\n",
    "    elif popularity < 25:\n",
    "        mood_scores['melancholic'] += 1\n",
    "\n",
    "    if duration_ms > 360000:\n",
    "        mood_scores['intense'] += 1\n",
    "    elif duration_ms < 180000:\n",
    "        mood_scores['energetic'] += 1\n",
    "\n",
    "    dominant_mood = max(mood_scores.items(), key=lambda x: x[1])[0]\n",
    "    if all(score == 0 for score in mood_scores.values()):\n",
    "        dominant_mood = 'balanced'\n",
    "    \n",
    "    return {\n",
    "        'dominant_mood': dominant_mood,\n",
    "        'popularity': popularity,\n",
    "        'duration_ms': duration_ms,\n",
    "        'mood_scores': mood_scores\n",
    "    }\n"
   ]
  },
  {
   "cell_type": "markdown",
   "metadata": {},
   "source": [
    "Visualization of Data\n",
    "1. Mood Visualization"
   ]
  },
  {
   "cell_type": "code",
   "execution_count": 11,
   "metadata": {},
   "outputs": [],
   "source": [
    "def create_mood_visualization(df_analysis):\n",
    "    \"\"\"\n",
    "    Create a visualization of song moods\n",
    "    \"\"\"\n",
    "    plt.figure(figsize=(15, 8))\n",
    "\n",
    "    # Create color mapping for moods\n",
    "    mood_colors = {\n",
    "        'happy': '#2ecc71',     # Green\n",
    "        'energetic': '#e74c3c', # Red\n",
    "        'intense': '#8e44ad',   # Purple\n",
    "        'melancholic': '#3498db', # Blue\n",
    "        'balanced': '#f1c40f'    # Yellow\n",
    "    }\n",
    "\n",
    "    # Create the bar plot\n",
    "    bars = plt.bar(range(len(df_analysis)), \n",
    "            [1] * len(df_analysis),\n",
    "            color=[mood_colors.get(mood, '#95a5a6') for mood in df_analysis['dominant_mood']])\n",
    "\n",
    "    # Customize the plot\n",
    "    plt.xticks(range(len(df_analysis)), \n",
    "              df_analysis['trackName'], \n",
    "              rotation=45, \n",
    "              ha='right')\n",
    "    plt.yticks([])  # Hide y-axis ticks\n",
    "\n",
    "    # Add mood labels on the bars\n",
    "    for idx, row in df_analysis.iterrows():\n",
    "        plt.text(idx, 0.5, row['dominant_mood'].title(), \n",
    "                 ha='center', va='center', \n",
    "                 rotation=0,\n",
    "                 color='black',\n",
    "                 fontweight='bold')\n",
    "\n",
    "    # Customize the layout\n",
    "    plt.title('Mood Analysis of Your Most Listened Monthly Tracks', pad=20)\n",
    "    plt.tight_layout()\n",
    "\n",
    "    # Add a legend\n",
    "    legend_elements = [plt.Rectangle((0,0),1,1, facecolor=color, label=mood.title()) \n",
    "                      for mood, color in mood_colors.items()]\n",
    "    plt.legend(handles=legend_elements, \n",
    "              title='Mood Types',\n",
    "              bbox_to_anchor=(1.15, 1),\n",
    "              loc='upper right')\n",
    "\n",
    "    plt.show()"
   ]
  },
  {
   "cell_type": "markdown",
   "metadata": {},
   "source": []
  },
  {
   "cell_type": "markdown",
   "metadata": {},
   "source": [
    "Main Function:\n",
    "\n",
    "    1. It executes all operations in order.\n",
    "    2. Authorization, analysis of listening history, mood and duration graphs of songs are created."
   ]
  },
  {
   "cell_type": "code",
   "execution_count": 17,
   "metadata": {},
   "outputs": [
    {
     "name": "stdout",
     "output_type": "stream",
     "text": [
      "Starting Spotify authorization process...\n",
      "Opening browser for authorization...\n",
      "Loading listening history...\n",
      "\n",
      "Analyzing your music...\n",
      "\n",
      "Analyzing: Count Me Out by Kendrick Lamar\n",
      "Listening time: 52.68 minutes\n",
      "Mood: Balanced\n",
      "Popularity: 74/100\n"
     ]
    },
    {
     "name": "stderr",
     "output_type": "stream",
     "text": [
      "127.0.0.1 - - [10/Jan/2025 18:20:44] \"GET /callback?code=AQD6DAS_Uv1jf-tcZH7I0_6dd5wOX_Tm-EvUF6rCS1wStBr2RIyK4hzyoxS6c9DXovJV7SGtIO2RNWsvd7sjGm8EI1bi8lJetKER7Q2FbbscACpe9iWOVqbE3kwuPqM2uOC5t9ZlnTIf9z7uEaQlI4GfMZ0fJEqBGXwMaLYv4ESF79rr95Y4nfFjaJLzYdTjvLW0zwYfdR1LTGzHRbCrWO-IxzdK0s1Q HTTP/1.1\" 200 -\n"
     ]
    },
    {
     "name": "stdout",
     "output_type": "stream",
     "text": [
      "\n",
      "Analyzing: Yangın Akvaryum by Büyük Ev Ablukada\n",
      "Listening time: 114.76 minutes\n",
      "Mood: Intense\n",
      "Popularity: 37/100\n",
      "\n",
      "Analyzing: ELECTROWAVEBABY by Kid Cudi\n",
      "Listening time: 134.95 minutes\n",
      "Mood: Balanced\n",
      "Popularity: 48/100\n",
      "\n",
      "Analyzing: By Design by Kid Cudi\n",
      "Listening time: 220.81 minutes\n",
      "Mood: Balanced\n",
      "Popularity: 55/100\n",
      "\n",
      "Analyzing: sana.yazdım by Şam\n",
      "Listening time: 86.30 minutes\n",
      "Mood: Balanced\n",
      "Popularity: 52/100\n",
      "\n",
      "Analyzing: microdose by Motive\n",
      "Listening time: 84.29 minutes\n",
      "Mood: Energetic\n",
      "Popularity: 44/100\n",
      "\n",
      "Analyzing: PRIDE. by Kendrick Lamar\n",
      "Listening time: 112.84 minutes\n",
      "Mood: Happy\n",
      "Popularity: 81/100\n",
      "\n",
      "Analyzing: sen iste <3 by Yung Ouzo\n",
      "Listening time: 330.10 minutes\n",
      "Mood: Energetic\n",
      "Popularity: 42/100\n",
      "\n",
      "Analyzing: Kalbim Yanımda by Ati242\n",
      "Listening time: 77.64 minutes\n",
      "Mood: Energetic\n",
      "Popularity: 69/100\n",
      "\n",
      "Analyzing: Mr. Rager by Kid Cudi\n",
      "Listening time: 102.75 minutes\n",
      "Mood: Balanced\n",
      "Popularity: 73/100\n",
      "\n",
      "Analyzing: Mr. Rager by Kid Cudi\n",
      "Listening time: 13.18 minutes\n",
      "Mood: Balanced\n",
      "Popularity: 73/100\n",
      "\n",
      "Analyzing: Italy Forma by Ati242\n",
      "Listening time: 84.64 minutes\n",
      "Mood: Happy\n",
      "Popularity: 77/100\n",
      "\n",
      "Analyzing: Aşk Her Şeyi Affeder Mi by Şam\n",
      "Listening time: 49.14 minutes\n",
      "Mood: Energetic\n",
      "Popularity: 61/100\n",
      "\n",
      "Analysis saved to music_mood_analysis.csv\n",
      "\n",
      "Monthly Music Mood Progression:\n",
      "2023-11: Count Me Out - Balanced (52.68 minutes)\n",
      "2023-12: Yangın Akvaryum - Intense (114.76 minutes)\n",
      "2024-01: ELECTROWAVEBABY - Balanced (134.95 minutes)\n",
      "2024-02: By Design - Balanced (220.81 minutes)\n",
      "2024-03: sana.yazdım - Balanced (86.30 minutes)\n",
      "2024-04: microdose - Energetic (84.29 minutes)\n",
      "2024-05: PRIDE. - Happy (112.84 minutes)\n",
      "2024-06: sen iste <3 - Energetic (330.10 minutes)\n",
      "2024-07: Kalbim Yanımda - Energetic (77.64 minutes)\n",
      "2024-08: Mr. Rager - Balanced (102.75 minutes)\n",
      "2024-09: Mr. Rager - Balanced (13.18 minutes)\n",
      "2024-10: Italy Forma - Happy (84.64 minutes)\n",
      "2024-11: Aşk Her Şeyi Affeder Mi - Energetic (49.14 minutes)\n",
      "\n",
      "Mood Distribution:\n",
      "Balanced: 6 tracks\n",
      "Energetic: 4 tracks\n",
      "Happy: 2 tracks\n",
      "Intense: 1 tracks\n"
     ]
    },
    {
     "data": {
      "image/png": "[encoded data removed]",
      "text/plain": [
       "<Figure size 1500x800 with 1 Axes>"
      ]
     },
     "metadata": {},
     "output_type": "display_data"
    }
   ],
   "source": [
    "def main():\n",
    "    try:\n",
    "        # Get authorization and token\n",
    "        print(\"Starting Spotify authorization process...\")\n",
    "        auth_code = get_user_auth()\n",
    "        access_token = get_access_token(auth_code)\n",
    "        \n",
    "        if not access_token:\n",
    "            print(\"Failed to get access token\")\n",
    "            return\n",
    "\n",
    "        # Load listening history\n",
    "        print(\"Loading listening history...\")\n",
    "        listening_history_path = \"/Users/semihcelik/Desktop/dsa210 /Spotify_Data/StreamingHistory_music_0.json\"\n",
    "        df_history = load_streaming_history(listening_history_path)\n",
    "        \n",
    "        # Get monthly top songs using actual listening duration\n",
    "        monthly_top_songs = get_monthly_top_songs(df_history)\n",
    "        \n",
    "        print(\"\\nAnalyzing your music...\")\n",
    "        track_analyses = []\n",
    "        headers = {\"Authorization\": f\"Bearer {access_token}\"}\n",
    "        \n",
    "        for _, row in monthly_top_songs.iterrows():\n",
    "            query = f\"track:{row['trackName']} artist:{row['artistName']}\"\n",
    "            search_url = f\"https://api.spotify.com/v1/search?q={urllib.parse.quote(query)}&type=track&limit=1&market=TR\"\n",
    "            \n",
    "            try:\n",
    "                response = requests.get(search_url, headers=headers)\n",
    "                if response.status_code == 200:\n",
    "                    items = response.json()[\"tracks\"][\"items\"]\n",
    "                    if items:\n",
    "                        track_id = items[0][\"id\"]\n",
    "                        track_url = f\"https://api.spotify.com/v1/tracks/{track_id}\"\n",
    "                        track_response = requests.get(track_url, headers=headers)\n",
    "                        \n",
    "                        if track_response.status_code == 200:\n",
    "                            track_details = track_response.json()\n",
    "                            analysis = analyze_track_features(track_details)\n",
    "                            \n",
    "                            print(f\"\\nAnalyzing: {row['trackName']} by {row['artistName']}\")\n",
    "                            print(f\"Listening time: {row['minutes_played']:.2f} minutes\")\n",
    "                            print(f\"Mood: {analysis['dominant_mood'].title()}\")\n",
    "                            print(f\"Popularity: {analysis['popularity']}/100\")\n",
    "                            \n",
    "                            analysis.update({\n",
    "                                \"Month\": str(row[\"month\"]),\n",
    "                                \"trackName\": row[\"trackName\"],\n",
    "                                \"artistName\": row[\"artistName\"],\n",
    "                                \"minutes_played\": row[\"minutes_played\"]\n",
    "                            })\n",
    "                            track_analyses.append(analysis)\n",
    "                    else:\n",
    "                        print(f\"Track not found: {row['trackName']}\")\n",
    "                \n",
    "                time.sleep(0.5)  # Rate limiting prevention\n",
    "                \n",
    "            except Exception as e:\n",
    "                print(f\"Error processing track: {str(e)}\")\n",
    "                continue\n",
    "        \n",
    "        if not track_analyses:\n",
    "            print(\"No valid analysis data collected\")\n",
    "            return\n",
    "            \n",
    "        # Create DataFrame\n",
    "        df_analysis = pd.DataFrame(track_analyses)\n",
    "        \n",
    "        # Save analysis\n",
    "        output_path = \"music_mood_analysis.csv\"\n",
    "        df_analysis.to_csv(output_path, index=False)\n",
    "        print(f\"\\nAnalysis saved to {output_path}\")\n",
    "        \n",
    "        # Print summary\n",
    "        print(\"\\nMonthly Music Mood Progression:\")\n",
    "        for _, row in df_analysis.sort_values('Month').iterrows():\n",
    "            print(f\"{row['Month']}: {row['trackName']} - {row['dominant_mood'].title()} ({row['minutes_played']:.2f} minutes)\")\n",
    "        \n",
    "        print(\"\\nMood Distribution:\")\n",
    "        mood_counts = df_analysis['dominant_mood'].value_counts()\n",
    "        for mood, count in mood_counts.items():\n",
    "            print(f\"{mood.title()}: {count} tracks\")\n",
    "\n",
    "        # Create visualizations\n",
    "        create_mood_visualization(df_analysis)\n",
    "\n",
    "    except Exception as e:\n",
    "        print(f\"An error occurred: {str(e)}\")\n",
    "        import traceback\n",
    "        traceback.print_exc()\n",
    "\n",
    "if __name__ == \"__main__\":\n",
    "    main()"
   ]
  },
  {
   "cell_type": "markdown",
   "metadata": {},
   "source": []
  }
 ],
 "metadata": {
  "kernelspec": {
   "display_name": ".venv",
   "language": "python",
   "name": "python3"
  },
  "language_info": {
   "codemirror_mode": {
    "name": "ipython",
    "version": 3
   },
   "file_extension": ".py",
   "mimetype": "text/x-python",
   "name": "python",
   "nbconvert_exporter": "python",
   "pygments_lexer": "ipython3",
   "version": "3.13.1"
  }
 },
 "nbformat": 4,
 "nbformat_minor": 2
}
